{
 "cells": [
  {
   "cell_type": "code",
   "execution_count": 196,
   "id": "6cf6bb49",
   "metadata": {},
   "outputs": [],
   "source": [
    "%matplotlib inline\n",
    "import numpy as np\n",
    "import pandas as pd\n",
    "np.random.seed(45)\n",
    "import matplotlib\n",
    "import matplotlib.pyplot as plt\n",
    "plt.rcParams['axes.labelsize'] = 14\n",
    "plt.rcParams['xtick.labelsize'] = 12\n",
    "plt.rcParams['ytick.labelsize'] = 12"
   ]
  },
  {
   "cell_type": "code",
   "execution_count": 197,
   "id": "0eb531b6",
   "metadata": {},
   "outputs": [
    {
     "data": {
      "text/html": [
       "<div>\n",
       "<style scoped>\n",
       "    .dataframe tbody tr th:only-of-type {\n",
       "        vertical-align: middle;\n",
       "    }\n",
       "\n",
       "    .dataframe tbody tr th {\n",
       "        vertical-align: top;\n",
       "    }\n",
       "\n",
       "    .dataframe thead th {\n",
       "        text-align: right;\n",
       "    }\n",
       "</style>\n",
       "<table border=\"1\" class=\"dataframe\">\n",
       "  <thead>\n",
       "    <tr style=\"text-align: right;\">\n",
       "      <th></th>\n",
       "      <th>Country</th>\n",
       "      <th>Ease</th>\n",
       "      <th>GDP</th>\n",
       "      <th>Population</th>\n",
       "    </tr>\n",
       "  </thead>\n",
       "  <tbody>\n",
       "    <tr>\n",
       "      <th>0</th>\n",
       "      <td>Austria</td>\n",
       "      <td>78.74549</td>\n",
       "      <td>50114.401110</td>\n",
       "      <td>107.609307</td>\n",
       "    </tr>\n",
       "    <tr>\n",
       "      <th>1</th>\n",
       "      <td>Belgium</td>\n",
       "      <td>74.98904</td>\n",
       "      <td>46599.111340</td>\n",
       "      <td>379.424703</td>\n",
       "    </tr>\n",
       "    <tr>\n",
       "      <th>2</th>\n",
       "      <td>Canada</td>\n",
       "      <td>79.64043</td>\n",
       "      <td>46328.671840</td>\n",
       "      <td>4.193949</td>\n",
       "    </tr>\n",
       "    <tr>\n",
       "      <th>3</th>\n",
       "      <td>China</td>\n",
       "      <td>77.28424</td>\n",
       "      <td>10143.838200</td>\n",
       "      <td>149.367573</td>\n",
       "    </tr>\n",
       "    <tr>\n",
       "      <th>4</th>\n",
       "      <td>India</td>\n",
       "      <td>71.04511</td>\n",
       "      <td>2072.244897</td>\n",
       "      <td>459.579696</td>\n",
       "    </tr>\n",
       "  </tbody>\n",
       "</table>\n",
       "</div>"
      ],
      "text/plain": [
       "   Country      Ease           GDP  Population\n",
       "0  Austria  78.74549  50114.401110  107.609307\n",
       "1  Belgium  74.98904  46599.111340  379.424703\n",
       "2   Canada  79.64043  46328.671840    4.193949\n",
       "3    China  77.28424  10143.838200  149.367573\n",
       "4    India  71.04511   2072.244897  459.579696"
      ]
     },
     "execution_count": 197,
     "metadata": {},
     "output_type": "execute_result"
    }
   ],
   "source": [
    "indicator = pd.read_csv('mpdm.csv')\n",
    "indicator.head()"
   ]
  },
  {
   "cell_type": "code",
   "execution_count": 198,
   "id": "9b77cad2",
   "metadata": {},
   "outputs": [
    {
     "name": "stdout",
     "output_type": "stream",
     "text": [
      "<class 'pandas.core.frame.DataFrame'>\n",
      "RangeIndex: 10 entries, 0 to 9\n",
      "Data columns (total 4 columns):\n",
      " #   Column      Non-Null Count  Dtype  \n",
      "---  ------      --------------  -----  \n",
      " 0   Country     10 non-null     object \n",
      " 1   Ease        10 non-null     float64\n",
      " 2   GDP         10 non-null     float64\n",
      " 3   Population  10 non-null     float64\n",
      "dtypes: float64(3), object(1)\n",
      "memory usage: 448.0+ bytes\n"
     ]
    }
   ],
   "source": [
    "indicator.info()"
   ]
  },
  {
   "cell_type": "code",
   "execution_count": 199,
   "id": "e83c158e",
   "metadata": {},
   "outputs": [
    {
     "data": {
      "text/html": [
       "<div>\n",
       "<style scoped>\n",
       "    .dataframe tbody tr th:only-of-type {\n",
       "        vertical-align: middle;\n",
       "    }\n",
       "\n",
       "    .dataframe tbody tr th {\n",
       "        vertical-align: top;\n",
       "    }\n",
       "\n",
       "    .dataframe thead th {\n",
       "        text-align: right;\n",
       "    }\n",
       "</style>\n",
       "<table border=\"1\" class=\"dataframe\">\n",
       "  <thead>\n",
       "    <tr style=\"text-align: right;\">\n",
       "      <th></th>\n",
       "      <th>Ease</th>\n",
       "      <th>GDP</th>\n",
       "      <th>Population</th>\n",
       "    </tr>\n",
       "  </thead>\n",
       "  <tbody>\n",
       "    <tr>\n",
       "      <th>count</th>\n",
       "      <td>10.000000</td>\n",
       "      <td>10.000000</td>\n",
       "      <td>10.000000</td>\n",
       "    </tr>\n",
       "    <tr>\n",
       "      <th>mean</th>\n",
       "      <td>78.698627</td>\n",
       "      <td>39533.229428</td>\n",
       "      <td>169.089003</td>\n",
       "    </tr>\n",
       "    <tr>\n",
       "      <th>std</th>\n",
       "      <td>3.899069</td>\n",
       "      <td>18958.699925</td>\n",
       "      <td>154.604847</td>\n",
       "    </tr>\n",
       "    <tr>\n",
       "      <th>min</th>\n",
       "      <td>71.045110</td>\n",
       "      <td>2072.244897</td>\n",
       "      <td>4.193949</td>\n",
       "    </tr>\n",
       "    <tr>\n",
       "      <th>25%</th>\n",
       "      <td>76.924547</td>\n",
       "      <td>41109.343980</td>\n",
       "      <td>53.822208</td>\n",
       "    </tr>\n",
       "    <tr>\n",
       "      <th>50%</th>\n",
       "      <td>79.192960</td>\n",
       "      <td>44699.585100</td>\n",
       "      <td>130.195296</td>\n",
       "    </tr>\n",
       "    <tr>\n",
       "      <th>75%</th>\n",
       "      <td>80.609043</td>\n",
       "      <td>48121.259155</td>\n",
       "      <td>244.539203</td>\n",
       "    </tr>\n",
       "    <tr>\n",
       "      <th>max</th>\n",
       "      <td>83.996680</td>\n",
       "      <td>65094.799430</td>\n",
       "      <td>459.579696</td>\n",
       "    </tr>\n",
       "  </tbody>\n",
       "</table>\n",
       "</div>"
      ],
      "text/plain": [
       "            Ease           GDP  Population\n",
       "count  10.000000     10.000000   10.000000\n",
       "mean   78.698627  39533.229428  169.089003\n",
       "std     3.899069  18958.699925  154.604847\n",
       "min    71.045110   2072.244897    4.193949\n",
       "25%    76.924547  41109.343980   53.822208\n",
       "50%    79.192960  44699.585100  130.195296\n",
       "75%    80.609043  48121.259155  244.539203\n",
       "max    83.996680  65094.799430  459.579696"
      ]
     },
     "execution_count": 199,
     "metadata": {},
     "output_type": "execute_result"
    }
   ],
   "source": [
    "indicator.describe()"
   ]
  },
  {
   "cell_type": "code",
   "execution_count": 200,
   "id": "c2c1401d",
   "metadata": {},
   "outputs": [
    {
     "data": {
      "text/html": [
       "<div>\n",
       "<style scoped>\n",
       "    .dataframe tbody tr th:only-of-type {\n",
       "        vertical-align: middle;\n",
       "    }\n",
       "\n",
       "    .dataframe tbody tr th {\n",
       "        vertical-align: top;\n",
       "    }\n",
       "\n",
       "    .dataframe thead th {\n",
       "        text-align: right;\n",
       "    }\n",
       "</style>\n",
       "<table border=\"1\" class=\"dataframe\">\n",
       "  <thead>\n",
       "    <tr style=\"text-align: right;\">\n",
       "      <th></th>\n",
       "      <th>Country</th>\n",
       "      <th>Ease</th>\n",
       "      <th>GDP</th>\n",
       "      <th>Population</th>\n",
       "    </tr>\n",
       "  </thead>\n",
       "  <tbody>\n",
       "    <tr>\n",
       "      <th>0</th>\n",
       "      <td>Austria</td>\n",
       "      <td>78.74549</td>\n",
       "      <td>50114.401110</td>\n",
       "      <td>107.609307</td>\n",
       "    </tr>\n",
       "    <tr>\n",
       "      <th>1</th>\n",
       "      <td>Belgium</td>\n",
       "      <td>74.98904</td>\n",
       "      <td>46599.111340</td>\n",
       "      <td>379.424703</td>\n",
       "    </tr>\n",
       "    <tr>\n",
       "      <th>2</th>\n",
       "      <td>Canada</td>\n",
       "      <td>79.64043</td>\n",
       "      <td>46328.671840</td>\n",
       "      <td>4.193949</td>\n",
       "    </tr>\n",
       "    <tr>\n",
       "      <th>3</th>\n",
       "      <td>China</td>\n",
       "      <td>77.28424</td>\n",
       "      <td>10143.838200</td>\n",
       "      <td>149.367573</td>\n",
       "    </tr>\n",
       "    <tr>\n",
       "      <th>4</th>\n",
       "      <td>India</td>\n",
       "      <td>71.04511</td>\n",
       "      <td>2072.244897</td>\n",
       "      <td>459.579696</td>\n",
       "    </tr>\n",
       "    <tr>\n",
       "      <th>5</th>\n",
       "      <td>United Arab Emirates</td>\n",
       "      <td>80.75261</td>\n",
       "      <td>42701.443050</td>\n",
       "      <td>137.574289</td>\n",
       "    </tr>\n",
       "    <tr>\n",
       "      <th>6</th>\n",
       "      <td>United States</td>\n",
       "      <td>83.99668</td>\n",
       "      <td>65094.799430</td>\n",
       "      <td>35.893176</td>\n",
       "    </tr>\n",
       "    <tr>\n",
       "      <th>7</th>\n",
       "      <td>United Kingdom</td>\n",
       "      <td>83.54968</td>\n",
       "      <td>43070.498360</td>\n",
       "      <td>276.263080</td>\n",
       "    </tr>\n",
       "    <tr>\n",
       "      <th>8</th>\n",
       "      <td>Finland</td>\n",
       "      <td>80.17834</td>\n",
       "      <td>48628.641760</td>\n",
       "      <td>18.167959</td>\n",
       "    </tr>\n",
       "    <tr>\n",
       "      <th>9</th>\n",
       "      <td>France</td>\n",
       "      <td>76.80465</td>\n",
       "      <td>40578.644290</td>\n",
       "      <td>122.816302</td>\n",
       "    </tr>\n",
       "  </tbody>\n",
       "</table>\n",
       "</div>"
      ],
      "text/plain": [
       "                Country      Ease           GDP  Population\n",
       "0               Austria  78.74549  50114.401110  107.609307\n",
       "1               Belgium  74.98904  46599.111340  379.424703\n",
       "2                Canada  79.64043  46328.671840    4.193949\n",
       "3                 China  77.28424  10143.838200  149.367573\n",
       "4                 India  71.04511   2072.244897  459.579696\n",
       "5  United Arab Emirates  80.75261  42701.443050  137.574289\n",
       "6         United States  83.99668  65094.799430   35.893176\n",
       "7        United Kingdom  83.54968  43070.498360  276.263080\n",
       "8               Finland  80.17834  48628.641760   18.167959\n",
       "9                France  76.80465  40578.644290  122.816302"
      ]
     },
     "execution_count": 200,
     "metadata": {},
     "output_type": "execute_result"
    }
   ],
   "source": [
    "indicator.dropna()"
   ]
  },
  {
   "cell_type": "code",
   "execution_count": 201,
   "id": "20676d28",
   "metadata": {},
   "outputs": [],
   "source": [
    "indicator.dropna(how='all', axis=1, inplace=True)"
   ]
  },
  {
   "cell_type": "code",
   "execution_count": 202,
   "id": "c86eb105",
   "metadata": {},
   "outputs": [
    {
     "data": {
      "text/html": [
       "<div>\n",
       "<style scoped>\n",
       "    .dataframe tbody tr th:only-of-type {\n",
       "        vertical-align: middle;\n",
       "    }\n",
       "\n",
       "    .dataframe tbody tr th {\n",
       "        vertical-align: top;\n",
       "    }\n",
       "\n",
       "    .dataframe thead th {\n",
       "        text-align: right;\n",
       "    }\n",
       "</style>\n",
       "<table border=\"1\" class=\"dataframe\">\n",
       "  <thead>\n",
       "    <tr style=\"text-align: right;\">\n",
       "      <th></th>\n",
       "      <th>Ease</th>\n",
       "      <th>GDP</th>\n",
       "      <th>Population</th>\n",
       "    </tr>\n",
       "  </thead>\n",
       "  <tbody>\n",
       "    <tr>\n",
       "      <th>count</th>\n",
       "      <td>10.000000</td>\n",
       "      <td>10.000000</td>\n",
       "      <td>10.000000</td>\n",
       "    </tr>\n",
       "    <tr>\n",
       "      <th>mean</th>\n",
       "      <td>78.698627</td>\n",
       "      <td>39533.229428</td>\n",
       "      <td>169.089003</td>\n",
       "    </tr>\n",
       "    <tr>\n",
       "      <th>std</th>\n",
       "      <td>3.899069</td>\n",
       "      <td>18958.699925</td>\n",
       "      <td>154.604847</td>\n",
       "    </tr>\n",
       "    <tr>\n",
       "      <th>min</th>\n",
       "      <td>71.045110</td>\n",
       "      <td>2072.244897</td>\n",
       "      <td>4.193949</td>\n",
       "    </tr>\n",
       "    <tr>\n",
       "      <th>25%</th>\n",
       "      <td>76.924547</td>\n",
       "      <td>41109.343980</td>\n",
       "      <td>53.822208</td>\n",
       "    </tr>\n",
       "    <tr>\n",
       "      <th>50%</th>\n",
       "      <td>79.192960</td>\n",
       "      <td>44699.585100</td>\n",
       "      <td>130.195296</td>\n",
       "    </tr>\n",
       "    <tr>\n",
       "      <th>75%</th>\n",
       "      <td>80.609043</td>\n",
       "      <td>48121.259155</td>\n",
       "      <td>244.539203</td>\n",
       "    </tr>\n",
       "    <tr>\n",
       "      <th>max</th>\n",
       "      <td>83.996680</td>\n",
       "      <td>65094.799430</td>\n",
       "      <td>459.579696</td>\n",
       "    </tr>\n",
       "  </tbody>\n",
       "</table>\n",
       "</div>"
      ],
      "text/plain": [
       "            Ease           GDP  Population\n",
       "count  10.000000     10.000000   10.000000\n",
       "mean   78.698627  39533.229428  169.089003\n",
       "std     3.899069  18958.699925  154.604847\n",
       "min    71.045110   2072.244897    4.193949\n",
       "25%    76.924547  41109.343980   53.822208\n",
       "50%    79.192960  44699.585100  130.195296\n",
       "75%    80.609043  48121.259155  244.539203\n",
       "max    83.996680  65094.799430  459.579696"
      ]
     },
     "execution_count": 202,
     "metadata": {},
     "output_type": "execute_result"
    }
   ],
   "source": [
    "indicator.describe()"
   ]
  },
  {
   "cell_type": "code",
   "execution_count": 203,
   "id": "a34f4a6e",
   "metadata": {},
   "outputs": [
    {
     "data": {
      "text/html": [
       "<div>\n",
       "<style scoped>\n",
       "    .dataframe tbody tr th:only-of-type {\n",
       "        vertical-align: middle;\n",
       "    }\n",
       "\n",
       "    .dataframe tbody tr th {\n",
       "        vertical-align: top;\n",
       "    }\n",
       "\n",
       "    .dataframe thead th {\n",
       "        text-align: right;\n",
       "    }\n",
       "</style>\n",
       "<table border=\"1\" class=\"dataframe\">\n",
       "  <thead>\n",
       "    <tr style=\"text-align: right;\">\n",
       "      <th></th>\n",
       "      <th>Ease</th>\n",
       "      <th>GDP</th>\n",
       "      <th>Population</th>\n",
       "    </tr>\n",
       "  </thead>\n",
       "  <tbody>\n",
       "    <tr>\n",
       "      <th>count</th>\n",
       "      <td>10.000000</td>\n",
       "      <td>10.000000</td>\n",
       "      <td>10.000000</td>\n",
       "    </tr>\n",
       "    <tr>\n",
       "      <th>mean</th>\n",
       "      <td>78.698627</td>\n",
       "      <td>39533.229428</td>\n",
       "      <td>169.089003</td>\n",
       "    </tr>\n",
       "    <tr>\n",
       "      <th>std</th>\n",
       "      <td>3.899069</td>\n",
       "      <td>18958.699925</td>\n",
       "      <td>154.604847</td>\n",
       "    </tr>\n",
       "    <tr>\n",
       "      <th>min</th>\n",
       "      <td>71.045110</td>\n",
       "      <td>2072.244897</td>\n",
       "      <td>4.193949</td>\n",
       "    </tr>\n",
       "    <tr>\n",
       "      <th>25%</th>\n",
       "      <td>76.924547</td>\n",
       "      <td>41109.343980</td>\n",
       "      <td>53.822208</td>\n",
       "    </tr>\n",
       "    <tr>\n",
       "      <th>50%</th>\n",
       "      <td>79.192960</td>\n",
       "      <td>44699.585100</td>\n",
       "      <td>130.195296</td>\n",
       "    </tr>\n",
       "    <tr>\n",
       "      <th>75%</th>\n",
       "      <td>80.609043</td>\n",
       "      <td>48121.259155</td>\n",
       "      <td>244.539203</td>\n",
       "    </tr>\n",
       "    <tr>\n",
       "      <th>max</th>\n",
       "      <td>83.996680</td>\n",
       "      <td>65094.799430</td>\n",
       "      <td>459.579696</td>\n",
       "    </tr>\n",
       "  </tbody>\n",
       "</table>\n",
       "</div>"
      ],
      "text/plain": [
       "            Ease           GDP  Population\n",
       "count  10.000000     10.000000   10.000000\n",
       "mean   78.698627  39533.229428  169.089003\n",
       "std     3.899069  18958.699925  154.604847\n",
       "min    71.045110   2072.244897    4.193949\n",
       "25%    76.924547  41109.343980   53.822208\n",
       "50%    79.192960  44699.585100  130.195296\n",
       "75%    80.609043  48121.259155  244.539203\n",
       "max    83.996680  65094.799430  459.579696"
      ]
     },
     "execution_count": 203,
     "metadata": {},
     "output_type": "execute_result"
    }
   ],
   "source": [
    "indicator.describe()\n"
   ]
  },
  {
   "cell_type": "code",
   "execution_count": 204,
   "id": "6db75cf3",
   "metadata": {},
   "outputs": [
    {
     "data": {
      "image/png": "[encoded data removed]",
      "text/plain": [
       "<Figure size 432x288 with 1 Axes>"
      ]
     },
     "metadata": {
      "needs_background": "light"
     },
     "output_type": "display_data"
    }
   ],
   "source": [
    "indicator.plot(kind=\"scatter\",x= \"Population\",y= \"GDP\", alpha=0.9)\n",
    "plt.savefig('scatter_plot.png')"
   ]
  },
  {
   "cell_type": "code",
   "execution_count": 205,
   "id": "628f5d27",
   "metadata": {},
   "outputs": [
    {
     "data": {
      "image/png": "[encoded data removed]",
      "text/plain": [
       "<Figure size 1440x1080 with 4 Axes>"
      ]
     },
     "metadata": {
      "needs_background": "light"
     },
     "output_type": "display_data"
    }
   ],
   "source": [
    "indicator.hist(bins=50, figsize=(20, 15))\n",
    "plt.savefig('numeric_attributes.png')\n",
    "plt.show()"
   ]
  },
  {
   "cell_type": "code",
   "execution_count": 206,
   "id": "6dcc1280",
   "metadata": {},
   "outputs": [
    {
     "data": {
      "image/png": "[encoded data removed]",
      "text/plain": [
       "<Figure size 864x576 with 9 Axes>"
      ]
     },
     "metadata": {
      "needs_background": "light"
     },
     "output_type": "display_data"
    }
   ],
   "source": [
    "from pandas.plotting import scatter_matrix\n",
    "\n",
    "attributes = [\"GDP\", \"Population\", \"Ease\"]\n",
    "scatter_matrix(indicator[attributes], figsize=(12, 8))\n",
    "plt.savefig(\"scatter_matrix_plot.png\")\n",
    "plt.show()"
   ]
  },
  {
   "cell_type": "code",
   "execution_count": 207,
   "id": "dd20111e",
   "metadata": {},
   "outputs": [
    {
     "data": {
      "image/png": "[encoded data removed]",
      "text/plain": [
       "<Figure size 432x288 with 1 Axes>"
      ]
     },
     "metadata": {
      "needs_background": "light"
     },
     "output_type": "display_data"
    }
   ],
   "source": [
    "indicator.plot(kind=\"scatter\", x=\"Population\", y=\"GDP\",\n",
    "             alpha=0.8)\n",
    "plt.savefig('scatter_plot.png')"
   ]
  },
  {
   "cell_type": "code",
   "execution_count": 208,
   "id": "4ba652e5",
   "metadata": {},
   "outputs": [],
   "source": [
    "from sklearn.linear_model import LinearRegression\n",
    "X = indicator.drop(['Country'], axis=1)\n",
    "regressor = LinearRegression()\n",
    "\n"
   ]
  },
  {
   "cell_type": "code",
   "execution_count": 209,
   "id": "65461c60",
   "metadata": {},
   "outputs": [],
   "source": [
    "indicator = indicator.replace(r'^\\s*$', np.nan, regex=True)"
   ]
  },
  {
   "cell_type": "code",
   "execution_count": 210,
   "id": "a03dcbb0",
   "metadata": {},
   "outputs": [],
   "source": [
    "from sklearn.model_selection import train_test_split\n",
    "y = indicator.GDP\n",
    "\n",
    "X_train, X_test, y_train, y_test = train_test_split(X, y, test_size=0.2, random_state=0)"
   ]
  },
  {
   "cell_type": "code",
   "execution_count": 211,
   "id": "d81e30e3",
   "metadata": {},
   "outputs": [],
   "source": [
    "X['GDP'] = X['GDP'].astype(float)"
   ]
  },
  {
   "cell_type": "code",
   "execution_count": 212,
   "id": "6ff12f2a",
   "metadata": {},
   "outputs": [],
   "source": [
    "X['Population'] = X['Population'].astype(float)"
   ]
  },
  {
   "cell_type": "code",
   "execution_count": 213,
   "id": "706d3b53",
   "metadata": {},
   "outputs": [],
   "source": [
    "from sklearn.linear_model import LinearRegression\n",
    "regressor = LinearRegression()\n"
   ]
  },
  {
   "cell_type": "code",
   "execution_count": 214,
   "id": "8b98fb83",
   "metadata": {},
   "outputs": [
    {
     "data": {
      "text/html": [
       "<div>\n",
       "<style scoped>\n",
       "    .dataframe tbody tr th:only-of-type {\n",
       "        vertical-align: middle;\n",
       "    }\n",
       "\n",
       "    .dataframe tbody tr th {\n",
       "        vertical-align: top;\n",
       "    }\n",
       "\n",
       "    .dataframe thead th {\n",
       "        text-align: right;\n",
       "    }\n",
       "</style>\n",
       "<table border=\"1\" class=\"dataframe\">\n",
       "  <thead>\n",
       "    <tr style=\"text-align: right;\">\n",
       "      <th></th>\n",
       "      <th>Country</th>\n",
       "      <th>Ease</th>\n",
       "      <th>GDP</th>\n",
       "      <th>Population</th>\n",
       "    </tr>\n",
       "  </thead>\n",
       "  <tbody>\n",
       "    <tr>\n",
       "      <th>0</th>\n",
       "      <td>Austria</td>\n",
       "      <td>78.74549</td>\n",
       "      <td>50114.401110</td>\n",
       "      <td>107.609307</td>\n",
       "    </tr>\n",
       "    <tr>\n",
       "      <th>1</th>\n",
       "      <td>Belgium</td>\n",
       "      <td>74.98904</td>\n",
       "      <td>46599.111340</td>\n",
       "      <td>379.424703</td>\n",
       "    </tr>\n",
       "    <tr>\n",
       "      <th>2</th>\n",
       "      <td>Canada</td>\n",
       "      <td>79.64043</td>\n",
       "      <td>46328.671840</td>\n",
       "      <td>4.193949</td>\n",
       "    </tr>\n",
       "    <tr>\n",
       "      <th>3</th>\n",
       "      <td>China</td>\n",
       "      <td>77.28424</td>\n",
       "      <td>10143.838200</td>\n",
       "      <td>149.367573</td>\n",
       "    </tr>\n",
       "    <tr>\n",
       "      <th>4</th>\n",
       "      <td>India</td>\n",
       "      <td>71.04511</td>\n",
       "      <td>2072.244897</td>\n",
       "      <td>459.579696</td>\n",
       "    </tr>\n",
       "    <tr>\n",
       "      <th>5</th>\n",
       "      <td>United Arab Emirates</td>\n",
       "      <td>80.75261</td>\n",
       "      <td>42701.443050</td>\n",
       "      <td>137.574289</td>\n",
       "    </tr>\n",
       "    <tr>\n",
       "      <th>6</th>\n",
       "      <td>United States</td>\n",
       "      <td>83.99668</td>\n",
       "      <td>65094.799430</td>\n",
       "      <td>35.893176</td>\n",
       "    </tr>\n",
       "    <tr>\n",
       "      <th>7</th>\n",
       "      <td>United Kingdom</td>\n",
       "      <td>83.54968</td>\n",
       "      <td>43070.498360</td>\n",
       "      <td>276.263080</td>\n",
       "    </tr>\n",
       "    <tr>\n",
       "      <th>8</th>\n",
       "      <td>Finland</td>\n",
       "      <td>80.17834</td>\n",
       "      <td>48628.641760</td>\n",
       "      <td>18.167959</td>\n",
       "    </tr>\n",
       "    <tr>\n",
       "      <th>9</th>\n",
       "      <td>France</td>\n",
       "      <td>76.80465</td>\n",
       "      <td>40578.644290</td>\n",
       "      <td>122.816302</td>\n",
       "    </tr>\n",
       "  </tbody>\n",
       "</table>\n",
       "</div>"
      ],
      "text/plain": [
       "                Country      Ease           GDP  Population\n",
       "0               Austria  78.74549  50114.401110  107.609307\n",
       "1               Belgium  74.98904  46599.111340  379.424703\n",
       "2                Canada  79.64043  46328.671840    4.193949\n",
       "3                 China  77.28424  10143.838200  149.367573\n",
       "4                 India  71.04511   2072.244897  459.579696\n",
       "5  United Arab Emirates  80.75261  42701.443050  137.574289\n",
       "6         United States  83.99668  65094.799430   35.893176\n",
       "7        United Kingdom  83.54968  43070.498360  276.263080\n",
       "8               Finland  80.17834  48628.641760   18.167959\n",
       "9                France  76.80465  40578.644290  122.816302"
      ]
     },
     "execution_count": 214,
     "metadata": {},
     "output_type": "execute_result"
    }
   ],
   "source": [
    "indicator"
   ]
  },
  {
   "cell_type": "code",
   "execution_count": null,
   "id": "62821bc8",
   "metadata": {},
   "outputs": [],
   "source": []
  },
  {
   "cell_type": "code",
   "execution_count": 215,
   "id": "e65734ca",
   "metadata": {},
   "outputs": [],
   "source": [
    "from sklearn.linear_model import LinearRegression\n",
    "X = indicator.drop(['Country'], axis=1)\n",
    "regressor = LinearRegression()"
   ]
  },
  {
   "cell_type": "code",
   "execution_count": 216,
   "id": "2ab97c18",
   "metadata": {},
   "outputs": [],
   "source": [
    "from sklearn.model_selection import train_test_split\n",
    "y = indicator.GDP\n",
    "\n",
    "X_train, X_test, y_train, y_test = train_test_split(X, y, test_size=0.2, random_state=0)"
   ]
  },
  {
   "cell_type": "code",
   "execution_count": 217,
   "id": "399d6b28",
   "metadata": {},
   "outputs": [],
   "source": [
    "from sklearn.linear_model import LinearRegression\n",
    "regressor = LinearRegression()"
   ]
  },
  {
   "cell_type": "code",
   "execution_count": 218,
   "id": "532d2cff",
   "metadata": {},
   "outputs": [
    {
     "data": {
      "text/html": [
       "<div>\n",
       "<style scoped>\n",
       "    .dataframe tbody tr th:only-of-type {\n",
       "        vertical-align: middle;\n",
       "    }\n",
       "\n",
       "    .dataframe tbody tr th {\n",
       "        vertical-align: top;\n",
       "    }\n",
       "\n",
       "    .dataframe thead th {\n",
       "        text-align: right;\n",
       "    }\n",
       "</style>\n",
       "<table border=\"1\" class=\"dataframe\">\n",
       "  <thead>\n",
       "    <tr style=\"text-align: right;\">\n",
       "      <th></th>\n",
       "      <th>Ease</th>\n",
       "      <th>GDP</th>\n",
       "      <th>Population</th>\n",
       "    </tr>\n",
       "  </thead>\n",
       "  <tbody>\n",
       "    <tr>\n",
       "      <th>0</th>\n",
       "      <td>78.74549</td>\n",
       "      <td>50114.401110</td>\n",
       "      <td>107.609307</td>\n",
       "    </tr>\n",
       "    <tr>\n",
       "      <th>1</th>\n",
       "      <td>74.98904</td>\n",
       "      <td>46599.111340</td>\n",
       "      <td>379.424703</td>\n",
       "    </tr>\n",
       "    <tr>\n",
       "      <th>2</th>\n",
       "      <td>79.64043</td>\n",
       "      <td>46328.671840</td>\n",
       "      <td>4.193949</td>\n",
       "    </tr>\n",
       "    <tr>\n",
       "      <th>3</th>\n",
       "      <td>77.28424</td>\n",
       "      <td>10143.838200</td>\n",
       "      <td>149.367573</td>\n",
       "    </tr>\n",
       "    <tr>\n",
       "      <th>4</th>\n",
       "      <td>71.04511</td>\n",
       "      <td>2072.244897</td>\n",
       "      <td>459.579696</td>\n",
       "    </tr>\n",
       "    <tr>\n",
       "      <th>5</th>\n",
       "      <td>80.75261</td>\n",
       "      <td>42701.443050</td>\n",
       "      <td>137.574289</td>\n",
       "    </tr>\n",
       "    <tr>\n",
       "      <th>6</th>\n",
       "      <td>83.99668</td>\n",
       "      <td>65094.799430</td>\n",
       "      <td>35.893176</td>\n",
       "    </tr>\n",
       "    <tr>\n",
       "      <th>7</th>\n",
       "      <td>83.54968</td>\n",
       "      <td>43070.498360</td>\n",
       "      <td>276.263080</td>\n",
       "    </tr>\n",
       "    <tr>\n",
       "      <th>8</th>\n",
       "      <td>80.17834</td>\n",
       "      <td>48628.641760</td>\n",
       "      <td>18.167959</td>\n",
       "    </tr>\n",
       "    <tr>\n",
       "      <th>9</th>\n",
       "      <td>76.80465</td>\n",
       "      <td>40578.644290</td>\n",
       "      <td>122.816302</td>\n",
       "    </tr>\n",
       "  </tbody>\n",
       "</table>\n",
       "</div>"
      ],
      "text/plain": [
       "       Ease           GDP  Population\n",
       "0  78.74549  50114.401110  107.609307\n",
       "1  74.98904  46599.111340  379.424703\n",
       "2  79.64043  46328.671840    4.193949\n",
       "3  77.28424  10143.838200  149.367573\n",
       "4  71.04511   2072.244897  459.579696\n",
       "5  80.75261  42701.443050  137.574289\n",
       "6  83.99668  65094.799430   35.893176\n",
       "7  83.54968  43070.498360  276.263080\n",
       "8  80.17834  48628.641760   18.167959\n",
       "9  76.80465  40578.644290  122.816302"
      ]
     },
     "execution_count": 218,
     "metadata": {},
     "output_type": "execute_result"
    }
   ],
   "source": [
    "X"
   ]
  },
  {
   "cell_type": "code",
   "execution_count": 240,
   "id": "9f2f1ced",
   "metadata": {},
   "outputs": [
    {
     "data": {
      "text/plain": [
       "LinearRegression()"
      ]
     },
     "execution_count": 240,
     "metadata": {},
     "output_type": "execute_result"
    }
   ],
   "source": [
    "from sklearn.linear_model import LinearRegression\n",
    "X = indicator.drop(['Country', 'Ease'], axis=1)\n",
    "regressor = LinearRegression()\n",
    "regressor.fit(X, indicator.Ease)"
   ]
  },
  {
   "cell_type": "code",
   "execution_count": 241,
   "id": "f53b76b6",
   "metadata": {},
   "outputs": [
    {
     "name": "stdout",
     "output_type": "stream",
     "text": [
      "Estimated intercept coefficient: 75.96992657559987\n"
     ]
    }
   ],
   "source": [
    "print('Estimated intercept coefficient:', regressor.intercept_)"
   ]
  },
  {
   "cell_type": "code",
   "execution_count": 242,
   "id": "33b2adf6",
   "metadata": {},
   "outputs": [
    {
     "name": "stdout",
     "output_type": "stream",
     "text": [
      "Number of coefficients: 2\n"
     ]
    }
   ],
   "source": [
    "print('Number of coefficients:', len(regressor.coef_))"
   ]
  },
  {
   "cell_type": "code",
   "execution_count": 243,
   "id": "954b93c6",
   "metadata": {},
   "outputs": [
    {
     "data": {
      "text/html": [
       "<div>\n",
       "<style scoped>\n",
       "    .dataframe tbody tr th:only-of-type {\n",
       "        vertical-align: middle;\n",
       "    }\n",
       "\n",
       "    .dataframe tbody tr th {\n",
       "        vertical-align: top;\n",
       "    }\n",
       "\n",
       "    .dataframe thead th {\n",
       "        text-align: right;\n",
       "    }\n",
       "</style>\n",
       "<table border=\"1\" class=\"dataframe\">\n",
       "  <thead>\n",
       "    <tr style=\"text-align: right;\">\n",
       "      <th></th>\n",
       "      <th>features</th>\n",
       "      <th>est_coef</th>\n",
       "    </tr>\n",
       "  </thead>\n",
       "  <tbody>\n",
       "    <tr>\n",
       "      <th>0</th>\n",
       "      <td>GDP</td>\n",
       "      <td>0.000107</td>\n",
       "    </tr>\n",
       "    <tr>\n",
       "      <th>1</th>\n",
       "      <td>Population</td>\n",
       "      <td>-0.008845</td>\n",
       "    </tr>\n",
       "  </tbody>\n",
       "</table>\n",
       "</div>"
      ],
      "text/plain": [
       "     features  est_coef\n",
       "0         GDP  0.000107\n",
       "1  Population -0.008845"
      ]
     },
     "execution_count": 243,
     "metadata": {},
     "output_type": "execute_result"
    }
   ],
   "source": [
    "pd.DataFrame(list(zip(X.columns, regressor.coef_)), columns = ['features', 'est_coef'])"
   ]
  },
  {
   "cell_type": "code",
   "execution_count": 244,
   "id": "daaf033c",
   "metadata": {},
   "outputs": [
    {
     "data": {
      "image/png": "[encoded data removed]",
      "text/plain": [
       "<Figure size 432x288 with 1 Axes>"
      ]
     },
     "metadata": {
      "needs_background": "light"
     },
     "output_type": "display_data"
    }
   ],
   "source": [
    "indicator.plot(kind=\"scatter\", x=\"Population\", y=\"Ease\",\n",
    "             alpha=0.8)\n",
    "plt.savefig('scatter_plot.png')"
   ]
  },
  {
   "cell_type": "code",
   "execution_count": 246,
   "id": "dd871b3d",
   "metadata": {},
   "outputs": [],
   "source": [
    "from sklearn.model_selection import train_test_split\n",
    "y = indicator.Ease\n",
    "\n",
    "X_train, X_test, y_train, y_test = train_test_split(X, y, test_size=0.2, random_state=0)"
   ]
  },
  {
   "cell_type": "code",
   "execution_count": 247,
   "id": "c9347a79",
   "metadata": {},
   "outputs": [
    {
     "data": {
      "text/plain": [
       "LinearRegression()"
      ]
     },
     "execution_count": 247,
     "metadata": {},
     "output_type": "execute_result"
    }
   ],
   "source": [
    "from sklearn.linear_model import LinearRegression\n",
    "regressor = LinearRegression()\n",
    "regressor.fit(X_train, y_train)"
   ]
  },
  {
   "cell_type": "code",
   "execution_count": 248,
   "id": "5307ca12",
   "metadata": {},
   "outputs": [],
   "source": [
    "y_pred = regressor.predict(X_test)"
   ]
  },
  {
   "cell_type": "code",
   "execution_count": 249,
   "id": "fb5fa3df",
   "metadata": {},
   "outputs": [
    {
     "data": {
      "text/plain": [
       "-47.50001352245706"
      ]
     },
     "execution_count": 249,
     "metadata": {},
     "output_type": "execute_result"
    }
   ],
   "source": [
    "regressor.score(X_test, y_test)"
   ]
  },
  {
   "cell_type": "code",
   "execution_count": 250,
   "id": "0064ef5e",
   "metadata": {},
   "outputs": [
    {
     "data": {
      "text/plain": [
       "1.8730550956615784"
      ]
     },
     "execution_count": 250,
     "metadata": {},
     "output_type": "execute_result"
    }
   ],
   "source": [
    "from sklearn.metrics import mean_squared_error\n",
    "regressor_mse = mean_squared_error(y_pred, y_test)\n",
    "\n",
    "import math\n",
    "math.sqrt(regressor_mse)"
   ]
  },
  {
   "cell_type": "code",
   "execution_count": 255,
   "id": "3aa22425",
   "metadata": {},
   "outputs": [
    {
     "data": {
      "text/html": [
       "<div>\n",
       "<style scoped>\n",
       "    .dataframe tbody tr th:only-of-type {\n",
       "        vertical-align: middle;\n",
       "    }\n",
       "\n",
       "    .dataframe tbody tr th {\n",
       "        vertical-align: top;\n",
       "    }\n",
       "\n",
       "    .dataframe thead th {\n",
       "        text-align: right;\n",
       "    }\n",
       "</style>\n",
       "<table border=\"1\" class=\"dataframe\">\n",
       "  <thead>\n",
       "    <tr style=\"text-align: right;\">\n",
       "      <th></th>\n",
       "      <th>Country</th>\n",
       "      <th>Ease</th>\n",
       "      <th>GDP</th>\n",
       "      <th>Population</th>\n",
       "    </tr>\n",
       "  </thead>\n",
       "  <tbody>\n",
       "    <tr>\n",
       "      <th>1</th>\n",
       "      <td>Belgium</td>\n",
       "      <td>74.98904</td>\n",
       "      <td>46599.11134</td>\n",
       "      <td>379.424703</td>\n",
       "    </tr>\n",
       "  </tbody>\n",
       "</table>\n",
       "</div>"
      ],
      "text/plain": [
       "   Country      Ease          GDP  Population\n",
       "1  Belgium  74.98904  46599.11134  379.424703"
      ]
     },
     "execution_count": 255,
     "metadata": {},
     "output_type": "execute_result"
    }
   ],
   "source": [
    "indicator.loc[indicator['Country'] == 'Belgium']"
   ]
  },
  {
   "cell_type": "code",
   "execution_count": 257,
   "id": "1f818dc6",
   "metadata": {},
   "outputs": [
    {
     "data": {
      "text/html": [
       "<div>\n",
       "<style scoped>\n",
       "    .dataframe tbody tr th:only-of-type {\n",
       "        vertical-align: middle;\n",
       "    }\n",
       "\n",
       "    .dataframe tbody tr th {\n",
       "        vertical-align: top;\n",
       "    }\n",
       "\n",
       "    .dataframe thead th {\n",
       "        text-align: right;\n",
       "    }\n",
       "</style>\n",
       "<table border=\"1\" class=\"dataframe\">\n",
       "  <thead>\n",
       "    <tr style=\"text-align: right;\">\n",
       "      <th></th>\n",
       "      <th>Country</th>\n",
       "      <th>Ease</th>\n",
       "      <th>GDP</th>\n",
       "      <th>Population</th>\n",
       "    </tr>\n",
       "  </thead>\n",
       "  <tbody>\n",
       "    <tr>\n",
       "      <th>2</th>\n",
       "      <td>Canada</td>\n",
       "      <td>79.64043</td>\n",
       "      <td>46328.67184</td>\n",
       "      <td>4.193949</td>\n",
       "    </tr>\n",
       "  </tbody>\n",
       "</table>\n",
       "</div>"
      ],
      "text/plain": [
       "  Country      Ease          GDP  Population\n",
       "2  Canada  79.64043  46328.67184    4.193949"
      ]
     },
     "execution_count": 257,
     "metadata": {},
     "output_type": "execute_result"
    }
   ],
   "source": [
    "indicator.loc[indicator['Country'] == 'Canada']\n"
   ]
  },
  {
   "cell_type": "code",
   "execution_count": 258,
   "id": "9cfd38a0",
   "metadata": {},
   "outputs": [
    {
     "data": {
      "image/png": "[encoded data removed]",
      "text/plain": [
       "<Figure size 432x288 with 1 Axes>"
      ]
     },
     "metadata": {
      "needs_background": "light"
     },
     "output_type": "display_data"
    }
   ],
   "source": [
    "plt.scatter(regressor.predict(X_train), regressor.predict(X_train)-y_train, c='indianred', s=40)\n",
    "plt.scatter(regressor.predict(X_test), regressor.predict(X_test)-y_test, c='g', s=40)\n",
    "plt.hlines(y=0, xmin=0, xmax=200)\n",
    "plt.title('Residual plot using training(red) and test(green) data')\n",
    "plt.ylabel('Residual')\n",
    "plt.savefig('residual_plot.png')"
   ]
  },
  {
   "cell_type": "code",
   "execution_count": null,
   "id": "460f3882",
   "metadata": {},
   "outputs": [],
   "source": []
  }
 ],
 "metadata": {
  "kernelspec": {
   "display_name": "Python 3 (ipykernel)",
   "language": "python",
   "name": "python3"
  },
  "language_info": {
   "codemirror_mode": {
    "name": "ipython",
    "version": 3
   },
   "file_extension": ".py",
   "mimetype": "text/x-python",
   "name": "python",
   "nbconvert_exporter": "python",
   "pygments_lexer": "ipython3",
   "version": "3.9.7"
  }
 },
 "nbformat": 4,
 "nbformat_minor": 5
}
